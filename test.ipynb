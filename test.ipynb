{
 "cells": [
  {
   "cell_type": "code",
   "execution_count": 39,
   "id": "c78eade6",
   "metadata": {},
   "outputs": [],
   "source": [
    "import pandas as pd"
   ]
  },
  {
   "cell_type": "code",
   "execution_count": 40,
   "id": "c206ca7c",
   "metadata": {},
   "outputs": [
    {
     "name": "stdout",
     "output_type": "stream",
     "text": [
      "productName\n",
      "productNameEng\n",
      "applicationNumber\n",
      "applicationDate\n",
      "registerStatus\n",
      "publicationNumber\n",
      "publicationDate\n",
      "registrationNumber\n",
      "registrationDate\n",
      "registrationPubNumber\n",
      "registrationPubDate\n",
      "internationalRegDate\n",
      "internationalRegNumbers\n",
      "priorityClaimNumList\n",
      "priorityClaimDateList\n",
      "asignProductMainCodeList\n",
      "asignProductSubCodeList\n",
      "viennaCodeList\n"
     ]
    }
   ],
   "source": [
    "df = pd.read_json('trademark_sample.json')\n",
    "#print(df.head())\n",
    "for i in df.columns:\n",
    "    print(i)\n"
   ]
  },
  {
   "cell_type": "code",
   "execution_count": 41,
   "id": "779fb6da",
   "metadata": {},
   "outputs": [
    {
     "name": "stdout",
     "output_type": "stream",
     "text": [
      "pNK\n",
      "pNE\n",
      "aN\n",
      "aD\n",
      "rS\n",
      "pN\n",
      "pD\n",
      "rN\n",
      "rD\n",
      "rPN\n",
      "rPD\n",
      "iRD\n",
      "iRN\n",
      "pCNL\n",
      "pCDL\n",
      "aPMCL\n",
      "aPSCL\n",
      "vCL\n"
     ]
    }
   ],
   "source": [
    "c_map = {\n",
    "    'pNK'    : 'productName'\n",
    "    ,'pNE'  : 'productNameEng'\n",
    "    ,'aN'   : 'applicationNumber'\n",
    "    ,'aD'   : 'applicationDate'\n",
    "    ,'rS'   : 'registerStatus'\n",
    "    ,'pN'   : 'publicationNumber'\n",
    "    ,'pD'   : 'publicationDate'\n",
    "    ,'rN'   : 'registrationNumber'\n",
    "    ,'rD'   : 'registrationDate'\n",
    "    ,'rPN'  : 'registrationPubNumber'\n",
    "    ,'rPD'  : 'registrationPubDate'\n",
    "    ,'iRD'  : 'internationalRegDate'\n",
    "    ,'iRN'  : 'internationalRegNumbers'\n",
    "    ,'pCNL' : 'priorityClaimNumList'\n",
    "    ,'pCDL' : 'priorityClaimDateList'\n",
    "    ,'aPMCL': 'asignProductMainCodeList'\n",
    "    ,'aPSCL': 'asignProductSubCodeList'\n",
    "    ,'vCL'  : 'viennaCodeList'\n",
    "}\n",
    "df_s = df.rename( columns={v: k for k, v in c_map.items()})\n",
    "#df_f = df_s.rename(columns=c_map)\n",
    "for i in df_s.columns:\n",
    "    print(i)"
   ]
  },
  {
   "cell_type": "code",
   "execution_count": 42,
   "id": "ad7f4284",
   "metadata": {},
   "outputs": [
    {
     "name": "stdout",
     "output_type": "stream",
     "text": [
      "total rows : 500\n",
      "missing value : \n",
      "pNK      287\n",
      "pNE      154\n",
      "aN         0\n",
      "aD         0\n",
      "rS         0\n",
      "pN       214\n",
      "pD       214\n",
      "rN       106\n",
      "rD       106\n",
      "rPN      500\n",
      "rPD      500\n",
      "iRD      500\n",
      "iRN      500\n",
      "pCNL     493\n",
      "pCDL     493\n",
      "aPMCL      1\n",
      "aPSCL      3\n",
      "vCL      347\n",
      "dtype: int64\n"
     ]
    }
   ],
   "source": [
    "print(f\"total rows : {len(df_s)}\")\n",
    "print(f\"missing value : \\n{df_s.isnull().sum()}\")"
   ]
  },
  {
   "cell_type": "code",
   "execution_count": 43,
   "id": "39f4a442",
   "metadata": {},
   "outputs": [
    {
     "name": "stdout",
     "output_type": "stream",
     "text": [
      "missing value : \n",
      "pNK      287\n",
      "pNE      154\n",
      "aN         0\n",
      "aD         0\n",
      "rS         0\n",
      "pN       214\n",
      "pD       214\n",
      "rN       106\n",
      "rD       106\n",
      "pCNL     493\n",
      "pCDL     493\n",
      "aPMCL      1\n",
      "aPSCL      3\n",
      "vCL      347\n",
      "dtype: int64\n"
     ]
    }
   ],
   "source": [
    "cols_to_drop = [\n",
    "    'rPN'\n",
    "    ,'rPD'\n",
    "    ,'iRD'\n",
    "    ,'iRN'\n",
    "]\n",
    "df_s.drop(columns = cols_to_drop, inplace=True)\n",
    "print(f\"missing value : \\n{df_s.isnull().sum()}\")"
   ]
  },
  {
   "cell_type": "code",
   "execution_count": 44,
   "id": "ad247472",
   "metadata": {},
   "outputs": [
    {
     "name": "stdout",
     "output_type": "stream",
     "text": [
      "True True True\n"
     ]
    }
   ],
   "source": [
    "p1 = df_s['pN'].isnull()\n",
    "p2 = df_s['pD'].isnull()\n",
    "r1 = df_s['rN'].isnull()\n",
    "r2 = df_s['rD'].isnull()\n",
    "l1 = df_s['pCNL'].isnull()\n",
    "l2 = df_s['pCDL'].isnull()\n",
    "\n",
    "p12 = (p1 ==p2).all()\n",
    "r12 = (r1 ==r2).all()\n",
    "l12 = (l1 ==l2).all()\n",
    "print(p12,r12,l12)"
   ]
  },
  {
   "cell_type": "code",
   "execution_count": 45,
   "id": "e0b6dc58",
   "metadata": {},
   "outputs": [
    {
     "name": "stdout",
     "output_type": "stream",
     "text": [
      "      pNK        pNE             aN        aD  rS            pN          pD  \\\n",
      "2     제이케         JK  4019630000130  19630214  실효  4.019630e+12  19630308.0   \n",
      "170    지구       JIGU  4019670002560  19671028  실효  4.019680e+12  19680810.0   \n",
      "132  None    Penaten  4019670002909  19671211  실효  4.019680e+12  19680910.0   \n",
      "86   None  LIGHTSHIP  4019680005131  19681214  실효  4.019730e+12  19730423.0   \n",
      "391  None      TM3+3  4019690001584  19690205  실효  4.019700e+12  19700415.0   \n",
      "\n",
      "                  rN          rD  pCNL  pCDL  aPMCL  \\\n",
      "2    [4000076480000]      [None]  None  None  [038]   \n",
      "170  [4000142350000]      [None]  None  None  [038]   \n",
      "132  [4000145170000]  [19680110]  None  None  [013]   \n",
      "86   [4000304440000]      [None]  None  None  [004]   \n",
      "391  [4000178200000]      [None]  None  None  [010]   \n",
      "\n",
      "                                                aPSCL   vCL  \n",
      "2                                             [G3817]  None  \n",
      "170                                           [G3817]  None  \n",
      "132  [G1004, G1301, S128302, G110102, G1201, S120907]  None  \n",
      "86         [G0403, G0404, G0401, G0402, G0406, G0405]  None  \n",
      "391                                              None  None  \n"
     ]
    }
   ],
   "source": [
    "df_ss = df_s.sort_values(by='aD')\n",
    "print(df_ss.head())"
   ]
  },
  {
   "cell_type": "code",
   "execution_count": 46,
   "id": "817726ff",
   "metadata": {},
   "outputs": [
    {
     "name": "stdout",
     "output_type": "stream",
     "text": [
      "rS\n",
      "등록    250\n",
      "실효    180\n",
      "거절     69\n",
      "출원      1\n",
      "Name: count, dtype: int64\n",
      "등록or실효인데 rD, rN 정보누락 : 36\n"
     ]
    }
   ],
   "source": [
    "print(df_ss['rS'].value_counts())\n",
    "a = df_ss['rS'].isin(['등록','실효'])\n",
    "b = df_ss[a &(df_ss['rD'].isnull() | df_ss['rN'].isnull())]\n",
    "print(f\"등록or실효인데 rD, rN 정보누락 : {len(b)}\")"
   ]
  },
  {
   "cell_type": "code",
   "execution_count": 47,
   "id": "b9c0382a",
   "metadata": {},
   "outputs": [
    {
     "name": "stdout",
     "output_type": "stream",
     "text": [
      "pNK       object\n",
      "pNE       object\n",
      "aN         int64\n",
      "aD         int64\n",
      "rS        object\n",
      "pN       float64\n",
      "pD       float64\n",
      "rN        object\n",
      "rD        object\n",
      "pCNL      object\n",
      "pCDL      object\n",
      "aPMCL     object\n",
      "aPSCL     object\n",
      "vCL       object\n",
      "dtype: object\n"
     ]
    }
   ],
   "source": [
    "print(df_ss.dtypes)"
   ]
  },
  {
   "cell_type": "markdown",
   "id": "55148237",
   "metadata": {},
   "source": [
    "#컬럼명 분석#\n",
    "pNK     : 상표명 한글\n",
    "pNE     : 상표명 영문\n",
    "aN      : 상표 출원번호 (*)\n",
    "aD      : 상표 출원일\n",
    "rS      : 상표 현재상태\n",
    "pN      : 공개공보 번호\n",
    "pD      : 공고일\n",
    "rN      : 등록번호\n",
    "rD      : 등록일\n",
    "rPN     : 등록공고번호\n",
    "rPD     : 등록공고일\n",
    "iRD     : 국제등록일\n",
    "iRN     : 국제등록번호\n",
    "pCNL    : 우선권 주장번호\n",
    "pCDL    : 우선권 주장일\n",
    "aPMCL   : 지정상품 주 분류코드\n",
    "aPSCL   : 유사군 코드\n",
    "vCL     : 비엔나 코드\n",
    "\n",
    "#데이터 타입#\n",
    "pNK, pNE, rS        -> astype(str)\n",
    "aN                  -> astype(str)\n",
    "aD, pD, rD, pCDL    -> datetime\n",
    "pN, pCNL, pCDL, rN  -> str\n",
    "aPMCL, aPSCL, vCL   -> str\n",
    "\n",
    "#리스트 타입 체크#\n",
    "rN, rD, pCNL, pCDL, aPMCL, aPSCL, vCL"
   ]
  },
  {
   "cell_type": "code",
   "execution_count": 48,
   "id": "857e8877",
   "metadata": {},
   "outputs": [
    {
     "name": "stdout",
     "output_type": "stream",
     "text": [
      "pNK: <class 'str'>\n",
      "pNE: <class 'str'>\n",
      "aN: <class 'numpy.int64'>\n",
      "aD: <class 'numpy.int64'>\n",
      "rS: <class 'str'>\n",
      "pN: <class 'numpy.float64'>\n",
      "pD: <class 'numpy.float64'>\n",
      "rN: <class 'list'>\n",
      "rD: <class 'list'>\n",
      "pCNL: <class 'list'>\n",
      "pCDL: <class 'list'>\n",
      "aPMCL: <class 'list'>\n",
      "aPSCL: <class 'list'>\n",
      "vCL: <class 'list'>\n"
     ]
    }
   ],
   "source": [
    "for i in df_ss.columns:\n",
    "    val = df_ss[i].dropna().iloc[0]\n",
    "    print(f\"{i}: {type(val)}\")"
   ]
  },
  {
   "cell_type": "markdown",
   "id": "e718a097",
   "metadata": {},
   "source": [
    "#리스트 타입 해결\n",
    "분류코드가 있는 컬럼 : aPMCL, aPSCL, vCL  -- 보류\n",
    "rN, rD, pCNL, pCDL : rD, pcDL은 datetime / rN, pCNL astype(str)"
   ]
  },
  {
   "cell_type": "code",
   "execution_count": 49,
   "id": "63e2cec2",
   "metadata": {},
   "outputs": [
    {
     "name": "stdout",
     "output_type": "stream",
     "text": [
      "total rows : 500\n",
      "missing value : \n",
      "pNK      287\n",
      "pNE      154\n",
      "aN         0\n",
      "aD         0\n",
      "rS         0\n",
      "pN       214\n",
      "pD       214\n",
      "rN       106\n",
      "rD       106\n",
      "pCNL     493\n",
      "pCDL     493\n",
      "aPMCL      1\n",
      "aPSCL      3\n",
      "vCL      347\n",
      "dtype: int64\n"
     ]
    }
   ],
   "source": [
    "print(f\"total rows : {len(df_ss)}\")\n",
    "print(f\"missing value : \\n{df_ss.isnull().sum()}\")"
   ]
  },
  {
   "cell_type": "markdown",
   "id": "1864b008",
   "metadata": {},
   "source": [
    "pNK, pNE 결측치채우기"
   ]
  },
  {
   "cell_type": "code",
   "execution_count": 50,
   "id": "674be44b",
   "metadata": {},
   "outputs": [],
   "source": [
    "from korean_romanizer.romanizer import Romanizer\n",
    "from g2pk import G2p\n",
    "\n",
    "g2p = G2p()\n",
    "\n",
    "def filled_pNK_pNE(row):\n",
    "    pNK, pNE = row['pNK'], row['pNE']\n",
    "    if pd.isna(pNK) and pd.notna(pNE):\n",
    "        try:\n",
    "            pNK = g2p(pNE)\n",
    "        except:\n",
    "            pNK = 'None'\n",
    "    \n",
    "    if pd.isna(pNE) and pd.notna(pNK):\n",
    "        try:\n",
    "            pNE = Romanizer(pNK).romanize()\n",
    "        except:\n",
    "            pNE = 'None'\n",
    "\n",
    "    if pd.isna(pNK):\n",
    "        pNK = 'None'\n",
    "    if pd.isna(pNE):\n",
    "        pNE = 'None'\n",
    "\n",
    "    return pd.Series( [pNK, pNE] )\n",
    "\n",
    "df_ss[['pNK', 'pNE']] = df_ss.apply(filled_pNK_pNE, axis=1)"
   ]
  },
  {
   "cell_type": "code",
   "execution_count": 51,
   "id": "76713c32",
   "metadata": {},
   "outputs": [
    {
     "name": "stdout",
     "output_type": "stream",
     "text": [
      "total rows : 500\n",
      "missing value : \n",
      "pNK        0\n",
      "pNE        0\n",
      "aN         0\n",
      "aD         0\n",
      "rS         0\n",
      "pN       214\n",
      "pD       214\n",
      "rN       106\n",
      "rD       106\n",
      "pCNL     493\n",
      "pCDL     493\n",
      "aPMCL      1\n",
      "aPSCL      3\n",
      "vCL      347\n",
      "dtype: int64\n"
     ]
    }
   ],
   "source": [
    "print(f\"total rows : {len(df_ss)}\")\n",
    "print(f\"missing value : \\n{df_ss.isnull().sum()}\")"
   ]
  },
  {
   "cell_type": "markdown",
   "id": "4015b84d",
   "metadata": {},
   "source": [
    "pN, pD, rN, rD 결측치 채우기\n",
    "\n",
    "대상 조건: rS가 '등록' 또는 '실효'\n",
    "기준 데이터: aN, aD, rS, pN, pD, rN, rD 모두 존재하는 row\n",
    "\n",
    "방식:\n",
    "pD - aD = 공고 지연일 평균\n",
    "rD - aD = 등록 지연일 평균\n",
    "\n",
    "채울 값:\n",
    "pN/rN은 출원번호 기반 추정값 (예: \"공고-0130\", \"등록-0130\")\n",
    "pD/rD는 출원일 + 평균 지연일\n",
    "iE 컬럼 추가: True로 표시 ( - isEstimated)"
   ]
  },
  {
   "cell_type": "markdown",
   "id": "b0471e37",
   "metadata": {},
   "source": [
    "#결측치를 유지하면서 타입 변환\n",
    "pCNL, pCDL 은 sparse matrix -- 그 자체로 의미\n",
    "aPMSL, aPSCL 은 --- list로 최빈값 넣기\n",
    "vCL 은 -- 그 자체로 도형요소 건드리기X\n",
    "pN, rN "
   ]
  },
  {
   "cell_type": "code",
   "execution_count": 52,
   "id": "49b572bc",
   "metadata": {},
   "outputs": [
    {
     "name": "stdout",
     "output_type": "stream",
     "text": [
      "총 등록번호 개수: 396\n",
      "고유 등록번호 수: 396\n",
      "상위 등록번호 10개:\n",
      "[('4000076480000', 1), ('4000142350000', 1), ('4000145170000', 1), ('4000304440000', 1), ('4000178200000', 1), ('4100008000000', 1), ('4000220060000', 1), ('4000229410000', 1), ('4000230510000', 1), ('4000430530000', 1)]\n"
     ]
    }
   ],
   "source": [
    "from itertools import chain\n",
    "from collections import Counter\n",
    "\n",
    "# 1. rN 값이 리스트인 경우만 추출\n",
    "rn_lists = df_ss['rN'][df_ss['rN'].apply(lambda x: isinstance(x, list))]\n",
    "\n",
    "# 2. 리스트 풀기 (flatten)\n",
    "all_rn_values = list(chain.from_iterable(rn_lists))\n",
    "\n",
    "# 3. 고유값 개수 확인\n",
    "print(\"총 등록번호 개수:\", len(all_rn_values))\n",
    "print(\"고유 등록번호 수:\", len(set(all_rn_values)))\n",
    "\n",
    "# 4. 가장 많이 쓰인 등록번호 확인\n",
    "rn_counter = Counter(all_rn_values)\n",
    "print(\"상위 등록번호 10개:\")\n",
    "print(rn_counter.most_common(10))"
   ]
  },
  {
   "cell_type": "markdown",
   "id": "8e76b2b9",
   "metadata": {},
   "source": [
    "#지식재산정보 참고 https://www.kipris.or.kr/khome/search/searchResult.do\n",
    "    -aN : (2: 상표 코드)(4: 년도)(7 : 년도별 출원 순번)\n",
    "    -pN : (2: 상표 코드)(4: 년도)(7 : 년도별 출원 순번) + pD\n",
    "    -rN : (2: 상표 코드)(7: 등록순번)(4: 보조코드) + rD\n",
    "10\t특허\n",
    "20\t실용신안\n",
    "30\t디자인\n",
    "40\t상표\n",
    "41\t국제상표\n",
    "45\t서비스표\n",
    "\n",
    "aN: <class 'numpy.int64'>\n",
    "aD: <class 'numpy.int64'>\n",
    "rS: <class 'str'>\n",
    "\n",
    "pN: <class 'numpy.float64'>\n",
    "pD: <class 'numpy.float64'>\n",
    "\n",
    "rN: <class 'list'>\n",
    "rD: <class 'list'>"
   ]
  },
  {
   "cell_type": "code",
   "execution_count": 53,
   "id": "135895e3",
   "metadata": {},
   "outputs": [
    {
     "name": "stderr",
     "output_type": "stream",
     "text": [
      "C:\\Users\\human\\AppData\\Local\\Temp\\ipykernel_12952\\2656989909.py:27: FutureWarning: Setting an item of incompatible dtype is deprecated and will raise an error in a future version of pandas. Value '5019750001016' has dtype incompatible with float64, please explicitly cast to a compatible dtype first.\n",
      "  df_ss.at[idx, 'pN'] = str(aN)\n"
     ]
    }
   ],
   "source": [
    "from datetime import timedelta\n",
    "import numpy as np\n",
    "# 1. 날짜형 변환\n",
    "df_ss['aD'] = pd.to_datetime(df_ss['aD'], format=\"%Y%m%d\", errors='coerce')\n",
    "df_ss['pD'] = pd.to_datetime(df_ss['pD'], errors='coerce')\n",
    "df_ss['rD_flat'] = df_ss['rD'].apply(lambda x: x[0] if isinstance(x, list) and x else np.nan)\n",
    "df_ss['rD_flat'] = pd.to_datetime(df_ss['rD_flat'], errors='coerce')\n",
    "\n",
    "# 2. 평균 지연일 계산 (등록/실효만 대상)\n",
    "mask = df_ss['rS'].isin(['등록', '실효'])\n",
    "valid_pD = df_ss[mask & df_ss['pD'].notnull()]\n",
    "valid_rD = df_ss[mask & df_ss['rD_flat'].notnull()]\n",
    "\n",
    "mean_pub_delay = (valid_pD['pD'] - valid_pD['aD']).mean()\n",
    "mean_reg_delay = (valid_rD['rD_flat'] - valid_rD['aD']).mean()\n",
    "\n",
    "# 3. 추정 플래그 컬럼\n",
    "df_ss['iE'] = False\n",
    "\n",
    "# 4. 결측치 채우기\n",
    "for idx, row in df_ss[mask].iterrows():\n",
    "    aN = row['aN']\n",
    "    aD = row['aD']\n",
    "\n",
    "    # pN = aN\n",
    "    if pd.isna(row['pN']):\n",
    "        df_ss.at[idx, 'pN'] = str(aN)\n",
    "        df_ss.at[idx, 'iE'] = True\n",
    "\n",
    "    # pD = aD + 평균 공고 지연일\n",
    "    if pd.isna(row['pD']):\n",
    "        df_ss.at[idx, 'pD'] = aD + mean_pub_delay\n",
    "        df_ss.at[idx, 'iE'] = True\n",
    "\n",
    "    # rN = 리스트이거나 빈 값이면 추정값 생성\n",
    "    if not isinstance(row['rN'], list) or len(row['rN']) == 0:\n",
    "        est_rN = f\"추정-{str(aN)[-6:]}\"\n",
    "        df_ss.at[idx, 'rN'] = [est_rN]\n",
    "        df_ss.at[idx, 'iE'] = True\n",
    "\n",
    "    # rD = aD + 평균 등록 지연일 (리스트 형태로 저장)\n",
    "    if (not isinstance(row['rD'], list)) or (isinstance(row['rD'], list) and len(row['rD']) == 0):\n",
    "        est_rD = aD + mean_reg_delay\n",
    "        df_ss.at[idx, 'rD'] = [est_rD]\n",
    "        df_ss.at[idx, 'iE'] = True"
   ]
  },
  {
   "cell_type": "code",
   "execution_count": 54,
   "id": "0e6d85d7",
   "metadata": {},
   "outputs": [
    {
     "name": "stdout",
     "output_type": "stream",
     "text": [
      "결측치 재확인\n",
      "\n",
      "\n",
      "결측치 재확인 등록or실효 아닌것들\n",
      "pN    68\n",
      "pD    68\n",
      "rN    70\n",
      "rD    70\n",
      "dtype: int64\n",
      "추정된 항목 수 (iE=True): 179\n",
      "total rows : 500\n",
      "missing value : \n",
      "pNK          0\n",
      "pNE          0\n",
      "aN           0\n",
      "aD           0\n",
      "rS           0\n",
      "pN          68\n",
      "pD          68\n",
      "rN          70\n",
      "rD          70\n",
      "pCNL       493\n",
      "pCDL       493\n",
      "aPMCL        1\n",
      "aPSCL        3\n",
      "vCL        347\n",
      "rD_flat    112\n",
      "iE           0\n",
      "dtype: int64\n"
     ]
    }
   ],
   "source": [
    "print(\"결측치 재확인\")\n",
    "# 조건: 등록 또는 실효 + pN/pD/rN/rD 중 하나라도 결측\n",
    "mask = (\n",
    "    df_ss['rS'].isin(['등록', '실효']) &\n",
    "    (\n",
    "        df_ss['pN'].isnull() |\n",
    "        df_ss['pD'].isnull() |\n",
    "        df_ss['rN'].apply(lambda x: not isinstance(x, list) or len(x) == 0) |\n",
    "        df_ss['rD'].apply(lambda x: not isinstance(x, list) or len(x) == 0)\n",
    "    )\n",
    ")\n",
    "\n",
    "# 결과 출력\n",
    "df_ss[mask][['aN', 'rS', 'pN', 'pD', 'rN', 'rD', 'iE']]\n",
    "print(\"\\n\")\n",
    "print(\"결측치 재확인 등록or실효 아닌것들\")\n",
    "print(df_ss[['pN', 'pD', 'rN', 'rD']].isnull().sum())\n",
    "print(\"추정된 항목 수 (iE=True):\", df_ss['iE'].sum())\n",
    "\n",
    "print(f\"total rows : {len(df_ss)}\")\n",
    "print(f\"missing value : \\n{df_ss.isnull().sum()}\")\n"
   ]
  },
  {
   "cell_type": "code",
   "execution_count": 55,
   "id": "32a46fa0",
   "metadata": {},
   "outputs": [],
   "source": [
    "# 거절 또는 출원인 경우 중 결측치가 있는 행들\n",
    "mask_other = df_ss['rS'].isin(['거절', '출원']) & (\n",
    "    df_ss['pN'].isnull() | df_ss['pD'].isnull() |\n",
    "    df_ss['rN'].apply(lambda x: not isinstance(x, list) or len(x) == 0) |\n",
    "    df_ss['rD'].apply(lambda x: not isinstance(x, list) or len(x) == 0)\n",
    ")\n",
    "\n",
    "# 처리\n",
    "for idx, row in df_ss[mask_other].iterrows():\n",
    "    if pd.isna(row['pN']):\n",
    "        df_ss.at[idx, 'pN'] = ['공고 없음']\n",
    "        df_ss.at[idx, 'iE'] = True\n",
    "    if pd.isna(row['pD']):\n",
    "        df_ss.at[idx, 'pD'] = pd.NaT\n",
    "        df_ss.at[idx, 'iE'] = True\n",
    "    if not isinstance(row['rN'], list) or len(row['rN']) == 0:\n",
    "        df_ss.at[idx, 'rN'] = ['등록 없음']\n",
    "        df_ss.at[idx, 'iE'] = True\n",
    "    if not isinstance(row['rD'], list) or len(row['rD']) == 0:\n",
    "        df_ss.at[idx, 'rD'] = [pd.NaT]\n",
    "        df_ss.at[idx, 'iE'] = True\n",
    "    \n",
    "    df_ss['rD_flat'] = df_ss['rD'].apply(lambda x: x[0] if isinstance(x, list) and x else pd.NaT)\n"
   ]
  },
  {
   "cell_type": "code",
   "execution_count": 56,
   "id": "8e52597e",
   "metadata": {},
   "outputs": [
    {
     "name": "stdout",
     "output_type": "stream",
     "text": [
      "total rows : 500\n",
      "missing value : \n",
      "pNK          0\n",
      "pNE          0\n",
      "aN           0\n",
      "aD           0\n",
      "rS           0\n",
      "pN           0\n",
      "pD          68\n",
      "rN           0\n",
      "rD           0\n",
      "pCNL       493\n",
      "pCDL       493\n",
      "aPMCL        1\n",
      "aPSCL        3\n",
      "vCL        347\n",
      "rD_flat     76\n",
      "iE           0\n",
      "dtype: int64\n"
     ]
    }
   ],
   "source": [
    "print(f\"total rows : {len(df_ss)}\")\n",
    "print(f\"missing value : \\n{df_ss.isnull().sum()}\")"
   ]
  },
  {
   "cell_type": "markdown",
   "id": "460218a4",
   "metadata": {},
   "source": [
    "pCNL, pCDL은 sparse matrix의 형태 하지만 그 자체로 유의미한 값\n",
    "없음 으로 표기"
   ]
  },
  {
   "cell_type": "code",
   "execution_count": 57,
   "id": "eda7c2e1",
   "metadata": {},
   "outputs": [],
   "source": [
    "for idx, row in df_ss.iterrows():\n",
    "    if not isinstance(row['pCNL'], list) or len(row['pCNL']) == 0:\n",
    "        df_ss.at[idx, 'pCNL'] = ['우선권 없음']\n",
    "        df_ss.at[idx, 'iE'] = True\n",
    "    if not isinstance(row['pCDL'], list) or len(row['pCDL']) == 0:\n",
    "        df_ss.at[idx, 'pCDL'] = ['날짜 없음']\n",
    "        df_ss.at[idx, 'iE'] = True"
   ]
  },
  {
   "cell_type": "code",
   "execution_count": 58,
   "id": "b2c9f339",
   "metadata": {},
   "outputs": [
    {
     "name": "stdout",
     "output_type": "stream",
     "text": [
      "total rows : 500\n",
      "missing value : \n",
      "pNK          0\n",
      "pNE          0\n",
      "aN           0\n",
      "aD           0\n",
      "rS           0\n",
      "pN           0\n",
      "pD          68\n",
      "rN           0\n",
      "rD           0\n",
      "pCNL         0\n",
      "pCDL         0\n",
      "aPMCL        1\n",
      "aPSCL        3\n",
      "vCL        347\n",
      "rD_flat     76\n",
      "iE           0\n",
      "dtype: int64\n"
     ]
    }
   ],
   "source": [
    "print(f\"total rows : {len(df_ss)}\")\n",
    "print(f\"missing value : \\n{df_ss.isnull().sum()}\")"
   ]
  },
  {
   "cell_type": "markdown",
   "id": "a08889a3",
   "metadata": {},
   "source": [
    "aPMCL, aPSCL은 상품코드 + 둘사이의 연관성 중심으로 유추 작업후 iE= True\n"
   ]
  },
  {
   "cell_type": "code",
   "execution_count": 59,
   "id": "0c0cdeca",
   "metadata": {},
   "outputs": [
    {
     "name": "stdout",
     "output_type": "stream",
     "text": [
      "상표코드별 주 분류코드 분포:\n",
      "mainCode   002  003  004  005  007  008  009  01  010  011  ...  37  38  39  \\\n",
      "brandCode                                                   ...               \n",
      "40           1    1    2    3    2    3    2   7   11    2  ...   0   0   0   \n",
      "41           0    0    0    0    0    0    0   0    0    0  ...   7   5   2   \n",
      "42           0    0    0    0    0    0    0   0    0    0  ...   0   0   0   \n",
      "45           0    0    0    0    0    0    0   0    0    0  ...   0   2   0   \n",
      "50           0    0    0    0    0    0    0   4    1    0  ...   0   0   0   \n",
      "51           0    0    0    0    0    0    0   0    0    0  ...   0   0   2   \n",
      "56           0    0    0    0    0    0    0   1    1    0  ...   1   1   0   \n",
      "70           0    0    0    0    0    0    0   0    0    0  ...   0   0   0   \n",
      "71           0    0    0    0    0    0    0   0    0    0  ...   0   0   0   \n",
      "\n",
      "mainCode   40  41  42  43  44  45  결측  \n",
      "brandCode                              \n",
      "40          0   0   0   0   0   0   0  \n",
      "41          1  10  13  11   1   1   0  \n",
      "42          0   0   0   0   0   0   1  \n",
      "45          0   2   3   0   0   0   0  \n",
      "50          0   0   0   0   0   0   0  \n",
      "51          0   1   3   2   0   0   0  \n",
      "56          0   0   0   2   0   0   0  \n",
      "70          0   0   0   0   0   0   0  \n",
      "71          0   0   0   0   0   0   0  \n",
      "\n",
      "[9 rows x 80 columns]\n",
      "\n",
      "상표코드별 유사군 코드 개수 평균:\n",
      "brandCode\n",
      "40     4.344961\n",
      "41     4.481928\n",
      "42     1.000000\n",
      "45    22.571429\n",
      "50     2.831325\n",
      "51     2.769231\n",
      "56     3.155556\n",
      "70     1.000000\n",
      "71     1.000000\n",
      "Name: subCodeCount, dtype: float64\n"
     ]
    }
   ],
   "source": [
    "# 1. 상표코드 추출 (출원번호 앞 2자리)\n",
    "df_ss['brandCode'] = df_ss['aN'].astype(str).str[:2]\n",
    "\n",
    "# 2. 주 분류코드 단일화 (첫 원소 기준)\n",
    "df_ss['mainCode'] = df_ss['aPMCL'].apply(lambda x: x[0] if isinstance(x, list) and x else '결측')\n",
    "\n",
    "# 3. 유사군 코드 개수 파악\n",
    "df_ss['subCodeCount'] = df_ss['aPSCL'].apply(lambda x: len(x) if isinstance(x, list) else 0)\n",
    "\n",
    "# 상표코드별 주 분류코드 분포\n",
    "print(\"상표코드별 주 분류코드 분포:\")\n",
    "print(df_ss.groupby(['brandCode', 'mainCode']).size().unstack(fill_value=0))\n",
    "\n",
    "# 상표코드별 유사군 코드 개수 평균\n",
    "print(\"\\n상표코드별 유사군 코드 개수 평균:\")\n",
    "print(df_ss.groupby('brandCode')['subCodeCount'].mean())"
   ]
  },
  {
   "cell_type": "code",
   "execution_count": 60,
   "id": "87fe396f",
   "metadata": {},
   "outputs": [
    {
     "name": "stdout",
     "output_type": "stream",
     "text": [
      "mainCode\n",
      "38     11.125000\n",
      "42     10.210526\n",
      "036    10.000000\n",
      "41      9.230769\n",
      "045     8.833333\n",
      "         ...    \n",
      "048     1.000000\n",
      "15      1.000000\n",
      "39      1.000000\n",
      "45      1.000000\n",
      "결측      1.000000\n",
      "Name: subCodeCount, Length: 80, dtype: float64\n"
     ]
    }
   ],
   "source": [
    "print(df_ss.groupby('mainCode')['subCodeCount'].mean().sort_values(ascending=False))"
   ]
  },
  {
   "cell_type": "code",
   "execution_count": 61,
   "id": "bd7be293",
   "metadata": {},
   "outputs": [],
   "source": [
    "# 주 분류 코드 최빈값 추출 (brandCode + aPMCL)\n",
    "from collections import Counter\n",
    "\n",
    "# brandCode별 aPMCL 최빈값 딕셔너리\n",
    "pmcl_map = (\n",
    "    df_ss[df_ss['aPMCL'].notnull()]\n",
    "    .groupby('brandCode')['aPMCL']\n",
    "    .apply(lambda x: Counter([tuple(i) for i in x if isinstance(i, list)]).most_common(1)[0][0])\n",
    "    .to_dict()\n",
    ")\n",
    "\n",
    "# brandCode별 aPSCL 최빈값 딕셔너리\n",
    "pscl_map = (\n",
    "    df_ss[df_ss['aPSCL'].notnull()]\n",
    "    .groupby('brandCode')['aPSCL']\n",
    "    .apply(lambda x: Counter([tuple(i) for i in x if isinstance(i, list)]).most_common(1)[0][0])\n",
    "    .to_dict()\n",
    ")\n",
    "for idx, row in df_ss.iterrows():\n",
    "    bc = row['brandCode']\n",
    "    \n",
    "    if (not isinstance(row['aPMCL'], list)) or (len(row['aPMCL']) == 0):\n",
    "        if bc in pmcl_map:\n",
    "            df_ss.at[idx, 'aPMCL'] = list(pmcl_map[bc])\n",
    "            df_ss.at[idx, 'iE'] = True\n",
    "    \n",
    "    if (not isinstance(row['aPSCL'], list)) or (len(row['aPSCL']) == 0):\n",
    "        if bc in pscl_map:\n",
    "            df_ss.at[idx, 'aPSCL'] = list(pscl_map[bc])\n",
    "            df_ss.at[idx, 'iE'] = True\n"
   ]
  },
  {
   "cell_type": "code",
   "execution_count": 62,
   "id": "360d7d4d",
   "metadata": {},
   "outputs": [
    {
     "name": "stdout",
     "output_type": "stream",
     "text": [
      "남은 결측치:\n",
      "aPMCL    1\n",
      "aPSCL    0\n",
      "dtype: int64\n",
      "\n",
      "빈 리스트 형태로 남은 행 수:\n",
      "aPMCL: 1\n",
      "aPSCL: 0\n"
     ]
    }
   ],
   "source": [
    "print(\"남은 결측치:\")\n",
    "print(df_ss[['aPMCL', 'aPSCL']].isnull().sum())\n",
    "\n",
    "# 리스트지만 빈 리스트는 직접 확인해야 함\n",
    "print(\"\\n빈 리스트 형태로 남은 행 수:\")\n",
    "print(\"aPMCL:\", (df_ss['aPMCL'].apply(lambda x: not isinstance(x, list) or len(x) == 0)).sum())\n",
    "print(\"aPSCL:\", (df_ss['aPSCL'].apply(lambda x: not isinstance(x, list) or len(x) == 0)).sum())\n"
   ]
  },
  {
   "cell_type": "code",
   "execution_count": 63,
   "id": "92dbb421",
   "metadata": {},
   "outputs": [],
   "source": [
    "# 전체에서 가장 많이 나온 주 분류 코드\n",
    "fallback_pmcl = (\n",
    "    df_ss['aPMCL']\n",
    "    .dropna()\n",
    "    .map(tuple)\n",
    "    .value_counts()\n",
    "    .idxmax()\n",
    ")\n",
    "\n",
    "# 적용\n",
    "df_ss['aPMCL'] = df_ss['aPMCL'].apply(\n",
    "    lambda x: list(fallback_pmcl) if not isinstance(x, list) or len(x) == 0 else x\n",
    ")\n",
    "df_ss.loc[\n",
    "    df_ss['aPMCL'].apply(lambda x: x == list(fallback_pmcl)),\n",
    "    'iE'\n",
    "] = True\n"
   ]
  },
  {
   "cell_type": "code",
   "execution_count": 64,
   "id": "fa614f85",
   "metadata": {},
   "outputs": [
    {
     "name": "stdout",
     "output_type": "stream",
     "text": [
      "최종 결측치:\n",
      "aPMCL    0\n",
      "aPSCL    0\n",
      "dtype: int64\n",
      "total rows : 500\n",
      "missing value : \n",
      "pNK               0\n",
      "pNE               0\n",
      "aN                0\n",
      "aD                0\n",
      "rS                0\n",
      "pN                0\n",
      "pD               68\n",
      "rN                0\n",
      "rD                0\n",
      "pCNL              0\n",
      "pCDL              0\n",
      "aPMCL             0\n",
      "aPSCL             0\n",
      "vCL             347\n",
      "rD_flat          76\n",
      "iE                0\n",
      "brandCode         0\n",
      "mainCode          0\n",
      "subCodeCount      0\n",
      "dtype: int64\n"
     ]
    }
   ],
   "source": [
    "print(\"최종 결측치:\")\n",
    "print(df_ss[['aPMCL', 'aPSCL']].isnull().sum())\n",
    "print(f\"total rows : {len(df_ss)}\")\n",
    "print(f\"missing value : \\n{df_ss.isnull().sum()}\")"
   ]
  },
  {
   "cell_type": "markdown",
   "id": "08b07f7d",
   "metadata": {},
   "source": [
    "vCL은 도형의 시각적 요소를 국제규범에 맞게 씀\n",
    " case1 - 도형이 없는 상표는 vCL이 없는게 맞음\n",
    " case2 - 도형이 있지만 누락가능성 있음\n",
    "\n",
    "제대로 하는건 복잡한 영역이라 later"
   ]
  },
  {
   "cell_type": "code",
   "execution_count": 65,
   "id": "2333e162",
   "metadata": {},
   "outputs": [],
   "source": [
    "df_ss['vCL'] = df_ss['vCL'].apply(\n",
    "    lambda x: ['None'] if not isinstance(x, list) or len(x) == 0 else x\n",
    ")\n",
    "\n",
    "# 추정 여부 표시\n",
    "df_ss.loc[df_ss['vCL'].apply(lambda x: x == ['None']), 'iE'] = True\n"
   ]
  },
  {
   "cell_type": "code",
   "execution_count": 66,
   "id": "78a4496f",
   "metadata": {},
   "outputs": [
    {
     "name": "stdout",
     "output_type": "stream",
     "text": [
      "vCL 결측: 0\n",
      "빈 리스트 수: 0\n"
     ]
    }
   ],
   "source": [
    "print(\"vCL 결측:\", df_ss['vCL'].isnull().sum())\n",
    "print(\"빈 리스트 수:\", df_ss['vCL'].apply(lambda x: not isinstance(x, list) or len(x) == 0).sum())\n"
   ]
  },
  {
   "cell_type": "code",
   "execution_count": 67,
   "id": "853f4f50",
   "metadata": {},
   "outputs": [
    {
     "name": "stdout",
     "output_type": "stream",
     "text": [
      "total rows : 500\n",
      "missing value : \n",
      "pNK              0\n",
      "pNE              0\n",
      "aN               0\n",
      "aD               0\n",
      "rS               0\n",
      "pN               0\n",
      "pD              68\n",
      "rN               0\n",
      "rD               0\n",
      "pCNL             0\n",
      "pCDL             0\n",
      "aPMCL            0\n",
      "aPSCL            0\n",
      "vCL              0\n",
      "rD_flat         76\n",
      "iE               0\n",
      "brandCode        0\n",
      "mainCode         0\n",
      "subCodeCount     0\n",
      "dtype: int64\n",
      "iE 추정 총계: 497\n"
     ]
    }
   ],
   "source": [
    "print(f\"total rows : {len(df_ss)}\")\n",
    "print(f\"missing value : \\n{df_ss.isnull().sum()}\")\n",
    "print(\"iE 추정 총계:\", df_ss['iE'].sum())"
   ]
  },
  {
   "cell_type": "markdown",
   "id": "8466bc34",
   "metadata": {},
   "source": [
    "최종 결측 분석\n",
    "pD같은경우 float의 형태라 결측냅둠\n",
    "iE -> isEstimated ( True-추정, False-원본) 매핑"
   ]
  },
  {
   "cell_type": "code",
   "execution_count": 68,
   "id": "00f96f38",
   "metadata": {},
   "outputs": [],
   "source": [
    "col_final_map = {\n",
    "    'pNK': 'productName',\n",
    "    'pNE': 'productNameEng',\n",
    "    'aN': 'applicationNumber',\n",
    "    'aD': 'applicationDate',\n",
    "    'rS': 'registerStatus',\n",
    "    'pN': 'publicationNumber',\n",
    "    'pD': 'publicationDate',\n",
    "    'rN': 'registrationNumber',\n",
    "    'rD': 'registrationDate',\n",
    "    'pCNL': 'priorityClaimNumList',\n",
    "    'pCDL': 'priorityClaimDateList',\n",
    "    'aPMCL': 'asignProductMainCodeList',\n",
    "    'aPSCL': 'asignProductSubCodeList',\n",
    "    'vCL': 'viennaCodeList',\n",
    "    'iE': 'isEstimated'\n",
    "}\n",
    "df_final = df_ss.copy()\n",
    "\n",
    "# 역매핑 딕셔너리 생성\n",
    "reverse_map = {k: v for k, v in col_final_map.items()}\n",
    "\n",
    "# 컬럼명 되돌리기\n",
    "df_final= df_final.rename(columns=reverse_map)\n"
   ]
  },
  {
   "cell_type": "code",
   "execution_count": 69,
   "id": "9b2964e6",
   "metadata": {},
   "outputs": [
    {
     "name": "stdout",
     "output_type": "stream",
     "text": [
      "['productName', 'productNameEng', 'applicationNumber', 'applicationDate', 'registerStatus', 'publicationNumber', 'publicationDate', 'registrationNumber', 'registrationDate', 'priorityClaimNumList', 'priorityClaimDateList', 'asignProductMainCodeList', 'asignProductSubCodeList', 'viennaCodeList', 'rD_flat', 'isEstimated', 'brandCode', 'mainCode', 'subCodeCount']\n"
     ]
    }
   ],
   "source": [
    "print(df_final.columns.tolist())\n",
    "df_final.drop(columns=['rD_flat', 'brandCode', 'mainCode', 'subCodeCount'], inplace=True)\n"
   ]
  },
  {
   "cell_type": "code",
   "execution_count": 70,
   "id": "3f8806fb",
   "metadata": {},
   "outputs": [
    {
     "name": "stdout",
     "output_type": "stream",
     "text": [
      "최종 컬럼 목록:\n",
      "['productName', 'productNameEng', 'applicationNumber', 'applicationDate', 'registerStatus', 'publicationNumber', 'publicationDate', 'registrationNumber', 'registrationDate', 'priorityClaimNumList', 'priorityClaimDateList', 'asignProductMainCodeList', 'asignProductSubCodeList', 'viennaCodeList', 'isEstimated']\n"
     ]
    }
   ],
   "source": [
    "#fin#\n",
    "print(\"최종 컬럼 목록:\")\n",
    "print(df_final.columns.tolist())"
   ]
  },
  {
   "cell_type": "markdown",
   "id": "3cf75ff8",
   "metadata": {},
   "source": [
    "pandas의 경우 1970부터 시작이라 1963 처리 오류\n",
    "그냥 데이터 덮어쓰기로 마무리 결측치만 냅두는 방향"
   ]
  },
  {
   "cell_type": "code",
   "execution_count": 71,
   "id": "bec1d0b1",
   "metadata": {},
   "outputs": [],
   "source": [
    "from datetime import datetime\n",
    "\n",
    "def format_date_for_json(x):\n",
    "    if pd.isnull(x):\n",
    "        return \"날짜 없음\"\n",
    "    if isinstance(x, pd.Timestamp):\n",
    "        return x.strftime(\"%Y%m%d\")\n",
    "    try:\n",
    "        return pd.to_datetime(x).strftime(\"%Y%m%d\")\n",
    "    except Exception:\n",
    "        return \"날짜 없음\"\n",
    "\n",
    "\n",
    "date_cols = ['applicationDate', 'publicationDate']\n",
    "for col in date_cols:\n",
    "    df_final[col] = df_final[col].apply(format_date_for_json)\n",
    "\n",
    "\n"
   ]
  },
  {
   "cell_type": "code",
   "execution_count": 72,
   "id": "7f15fba2",
   "metadata": {},
   "outputs": [],
   "source": [
    "# JSON 파일로 저장\n",
    "df_final.to_json(\"trademark_final_sample.json\", orient=\"records\", force_ascii=False, indent=2)\n"
   ]
  },
  {
   "cell_type": "code",
   "execution_count": 74,
   "id": "5caf5ccb",
   "metadata": {},
   "outputs": [],
   "source": [
    "import pandas as pd\n",
    "import json\n",
    "\n",
    "# 원본 데이터 로드\n",
    "with open('trademark_sample.json', encoding='utf-8') as f:\n",
    "    sample_data = json.load(f)\n",
    "\n",
    "with open('trademark_final_sample.json', encoding='utf-8') as f:\n",
    "    final_data = json.load(f)\n",
    "\n",
    "# DataFrame으로 변환\n",
    "df_sample = pd.DataFrame(sample_data)\n",
    "df_final = pd.DataFrame(final_data)\n",
    "\n",
    "df_sample['applicationNumber'] = df_sample['applicationNumber'].astype(str)\n",
    "df_final['applicationNumber'] = df_final['applicationNumber'].astype(str)\n",
    "# applicationNumber 기준으로 병합 (왼쪽: final, 오른쪽: sample)\n",
    "df_merged = pd.merge(\n",
    "    df_final,\n",
    "    df_sample[['applicationNumber', 'publicationDate']],\n",
    "    on='applicationNumber',\n",
    "    how='left',\n",
    "    suffixes=('', '_from_sample')\n",
    ")\n",
    "\n",
    "# 원본에서 publicationDate 값이 있을 경우 덮어쓰기\n",
    "df_merged['publicationDate'] = df_merged['publicationDate_from_sample'].combine_first(df_merged['publicationDate'])\n",
    "\n",
    "# 불필요한 컬럼 제거\n",
    "df_merged.drop(columns=['publicationDate_from_sample'], inplace=True)\n",
    "\n",
    "# 결과 저장\n",
    "df_merged.to_json(\"trademark_final_sample_fixed.json\", orient='records', force_ascii=False, indent=2)\n"
   ]
  },
  {
   "cell_type": "code",
   "execution_count": 75,
   "id": "fc03bc29",
   "metadata": {},
   "outputs": [],
   "source": [
    "import pandas as pd\n",
    "import json\n",
    "\n",
    "with open(\"trademark_final_sample_fixed.json\", encoding=\"utf-8\") as f:\n",
    "    data = json.load(f)\n",
    "\n",
    "# 숫자형 필드를 정리할 키 리스트\n",
    "numeric_fields = [\n",
    "    \"applicationNumber\", \"publicationNumber\",\n",
    "]\n",
    "\n",
    "# 각 항목에 대해 변환 수행\n",
    "for item in data:\n",
    "    for key in numeric_fields:\n",
    "        value = item.get(key)\n",
    "        if isinstance(value, float):\n",
    "            if value.is_integer():\n",
    "                item[key] = str(int(value))  # float -> int -> str\n",
    "        elif isinstance(value, int):\n",
    "            item[key] = str(value)\n",
    "\n",
    "# 리스트 내부 숫자들도 처리할 수 있다면 아래처럼 추가 가능\n",
    "# 예: registrationNumber가 숫자로 되어 있으면 문자열로 바꾸기\n",
    "if \"registrationNumber\" in item:\n",
    "    item[\"registrationNumber\"] = [str(int(n)) if isinstance(n, float) else n for n in item[\"registrationNumber\"]]\n",
    "\n",
    "# 저장\n",
    "with open(\"trademark_final_sample_fixed_cleaned.json\", \"w\", encoding=\"utf-8\") as f:\n",
    "    json.dump(data, f, ensure_ascii=False, indent=2)\n"
   ]
  }
 ],
 "metadata": {
  "kernelspec": {
   "display_name": "myenv",
   "language": "python",
   "name": "python3"
  },
  "language_info": {
   "codemirror_mode": {
    "name": "ipython",
    "version": 3
   },
   "file_extension": ".py",
   "mimetype": "text/x-python",
   "name": "python",
   "nbconvert_exporter": "python",
   "pygments_lexer": "ipython3",
   "version": "3.10.16"
  }
 },
 "nbformat": 4,
 "nbformat_minor": 5
}
