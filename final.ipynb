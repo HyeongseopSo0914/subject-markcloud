{
 "cells": [
  {
   "cell_type": "code",
   "execution_count": 1,
   "id": "75926124",
   "metadata": {},
   "outputs": [],
   "source": [
    "import pandas as pd"
   ]
  },
  {
   "cell_type": "code",
   "execution_count": 3,
   "id": "11e6f76a",
   "metadata": {},
   "outputs": [
    {
     "name": "stdout",
     "output_type": "stream",
     "text": [
      "productName\n",
      "productNameEng\n",
      "applicationNumber\n",
      "applicationDate\n",
      "registerStatus\n",
      "publicationNumber\n",
      "publicationDate\n",
      "registrationNumber\n",
      "registrationDate\n",
      "priorityClaimNumList\n",
      "priorityClaimDateList\n",
      "asignProductMainCodeList\n",
      "asignProductSubCodeList\n",
      "viennaCodeList\n",
      "isEstimated\n"
     ]
    }
   ],
   "source": [
    "df = pd.read_json('trademark_final_sample_fixed_cleaned.json')\n",
    "#print(df.head())\n",
    "for i in df.columns:\n",
    "    print(i)"
   ]
  },
  {
   "cell_type": "code",
   "execution_count": 5,
   "id": "5799d7f9",
   "metadata": {},
   "outputs": [
    {
     "name": "stdout",
     "output_type": "stream",
     "text": [
      "total rows : 500\n",
      "missing value : \n",
      "productName                 0\n",
      "productNameEng              0\n",
      "applicationNumber           0\n",
      "applicationDate             0\n",
      "registerStatus              0\n",
      "publicationNumber           0\n",
      "publicationDate             0\n",
      "registrationNumber          0\n",
      "registrationDate            0\n",
      "priorityClaimNumList        0\n",
      "priorityClaimDateList       0\n",
      "asignProductMainCodeList    0\n",
      "asignProductSubCodeList     0\n",
      "viennaCodeList              0\n",
      "isEstimated                 0\n",
      "dtype: int64\n",
      "productName                 object\n",
      "productNameEng              object\n",
      "applicationNumber            int64\n",
      "applicationDate              int64\n",
      "registerStatus              object\n",
      "publicationNumber           object\n",
      "publicationDate             object\n",
      "registrationNumber          object\n",
      "registrationDate            object\n",
      "priorityClaimNumList        object\n",
      "priorityClaimDateList       object\n",
      "asignProductMainCodeList    object\n",
      "asignProductSubCodeList     object\n",
      "viennaCodeList              object\n",
      "isEstimated                   bool\n",
      "dtype: object\n"
     ]
    }
   ],
   "source": [
    "print(f\"total rows : {len(df)}\")\n",
    "print(f\"missing value : \\n{df.isnull().sum()}\")\n",
    "print(df.dtypes)"
   ]
  }
 ],
 "metadata": {
  "kernelspec": {
   "display_name": "myenv",
   "language": "python",
   "name": "python3"
  },
  "language_info": {
   "codemirror_mode": {
    "name": "ipython",
    "version": 3
   },
   "file_extension": ".py",
   "mimetype": "text/x-python",
   "name": "python",
   "nbconvert_exporter": "python",
   "pygments_lexer": "ipython3",
   "version": "3.10.16"
  }
 },
 "nbformat": 4,
 "nbformat_minor": 5
}
